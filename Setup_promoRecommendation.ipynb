{
 "nbformat": 4,
 "nbformat_minor": 0,
 "metadata": {
  "colab": {
   "name": "Setup_promoRecommendation.ipynb",
   "provenance": [],
   "collapsed_sections": [],
   "authorship_tag": "ABX9TyO2Wcy+unKsP7jABESFk9WZ"
  },
  "kernelspec": {
   "name": "python3",
   "display_name": "Python 3"
  },
  "language_info": {
   "name": "python"
  }
 },
 "cells": [
  {
   "cell_type": "code",
   "execution_count": 1,
   "metadata": {
    "id": "PoDOvHNYHgFR",
    "colab": {
     "base_uri": "https://localhost:8080/"
    },
    "executionInfo": {
     "status": "ok",
     "timestamp": 1660306509231,
     "user_tz": -120,
     "elapsed": 23553,
     "user": {
      "displayName": "shubhaditya burela",
      "userId": "17820068407271373572"
     }
    },
    "outputId": "c5316128-5700-4760-bb8d-b66b29941731",
    "pycharm": {
     "name": "#%%\n"
    }
   },
   "outputs": [
    {
     "output_type": "stream",
     "name": "stdout",
     "text": [
      "/content/drive\n",
      "Mounted at /content/drive\n"
     ]
    }
   ],
   "source": [
    "# Mount Google Drive\n",
    "from google.colab import drive # import drive from google colab\n",
    "\n",
    "ROOT = \"/content/drive\"     # default location for the drive\n",
    "print(ROOT)                 # print content of ROOT (Optional)\n",
    "\n",
    "drive.mount(ROOT)           # we mount the google drive at /content/drive"
   ]
  },
  {
   "cell_type": "code",
   "source": [
    "# Clone github repository setup\n",
    "# import join used to join ROOT path and MY_GOOGLE_DRIVE_PATH\n",
    "from os.path import join  \n",
    "\n",
    "# path to your project on Google Drive\n",
    "MY_GOOGLE_DRIVE_PATH = 'MyDrive/Colab Notebooks/'  \n",
    "# Replace with your github repository\n",
    "GIT_REPOSITORY = \"promo-recommendation\" \n",
    "PROJECT_PATH = join(ROOT, MY_GOOGLE_DRIVE_PATH)\n",
    "\n",
    "# It's good to print out the value if you are not sure \n",
    "print(\"PROJECT_PATH: \", PROJECT_PATH)   \n",
    "\n",
    "# In case we haven't created the folder already; we will create a folder in the project path \n",
    "# !mkdir \"{PROJECT_PATH}\"    \n",
    "\n",
    "GIT_PATH = \"https://\" + \"@github.com/\" + \"fellowship/\" + GIT_REPOSITORY + \".git\"\n",
    "print(\"GIT_PATH: \", GIT_PATH)"
   ],
   "metadata": {
    "colab": {
     "base_uri": "https://localhost:8080/"
    },
    "id": "iOslzNp5H2kd",
    "executionInfo": {
     "status": "ok",
     "timestamp": 1660306538353,
     "user_tz": -120,
     "elapsed": 257,
     "user": {
      "displayName": "shubhaditya burela",
      "userId": "17820068407271373572"
     }
    },
    "outputId": "c1f491ff-b9d4-4385-8cc1-0f1dc2d54565",
    "pycharm": {
     "name": "#%%\n"
    }
   },
   "execution_count": 2,
   "outputs": [
    {
     "output_type": "stream",
     "name": "stdout",
     "text": [
      "PROJECT_PATH:  /content/drive/MyDrive/Colab Notebooks/\n",
      "GIT_PATH:  https://@github.com/fellowship/promo-recommendation.git\n"
     ]
    }
   ]
  },
  {
   "cell_type": "code",
   "source": [
    "%cd \"{PROJECT_PATH}{\"promo-recommendation/\"}\""
   ],
   "metadata": {
    "colab": {
     "base_uri": "https://localhost:8080/"
    },
    "id": "DG-LfqbKNo0e",
    "executionInfo": {
     "status": "ok",
     "timestamp": 1660306542181,
     "user_tz": -120,
     "elapsed": 252,
     "user": {
      "displayName": "shubhaditya burela",
      "userId": "17820068407271373572"
     }
    },
    "outputId": "f299cef4-b738-4508-d667-53530a4ac9d6",
    "pycharm": {
     "name": "#%%\n"
    }
   },
   "execution_count": 3,
   "outputs": [
    {
     "output_type": "stream",
     "name": "stdout",
     "text": [
      "/content/drive/MyDrive/Colab Notebooks/promo-recommendation\n"
     ]
    }
   ]
  },
  {
   "cell_type": "code",
   "source": [
    "# !git clone \"{GIT_PATH}\""
   ],
   "metadata": {
    "colab": {
     "base_uri": "https://localhost:8080/"
    },
    "id": "p2k9IYFJOQav",
    "executionInfo": {
     "status": "ok",
     "timestamp": 1660144269411,
     "user_tz": -120,
     "elapsed": 3734,
     "user": {
      "displayName": "shubhaditya burela",
      "userId": "17820068407271373572"
     }
    },
    "outputId": "cad7c729-1369-4e9d-8269-82540d83190a",
    "pycharm": {
     "name": "#%%\n"
    }
   },
   "execution_count": null,
   "outputs": [
    {
     "output_type": "stream",
     "name": "stdout",
     "text": [
      "Cloning into 'promo-recommendation'...\n",
      "remote: Enumerating objects: 353, done.\u001B[K\n",
      "remote: Counting objects: 100% (353/353), done.\u001B[K\n",
      "remote: Compressing objects: 100% (235/235), done.\u001B[K\n",
      "remote: Total 353 (delta 132), reused 315 (delta 100), pack-reused 0\u001B[K\n",
      "Receiving objects: 100% (353/353), 3.63 MiB | 9.63 MiB/s, done.\n",
      "Resolving deltas: 100% (132/132), done.\n"
     ]
    }
   ]
  },
  {
   "cell_type": "code",
   "source": [
    "!git branch -av"
   ],
   "metadata": {
    "colab": {
     "base_uri": "https://localhost:8080/"
    },
    "id": "JJQVzzvyO5js",
    "executionInfo": {
     "status": "ok",
     "timestamp": 1660153381382,
     "user_tz": -120,
     "elapsed": 6475,
     "user": {
      "displayName": "shubhaditya burela",
      "userId": "17820068407271373572"
     }
    },
    "outputId": "883e9c27-d65f-494f-d082-86c973732ee0",
    "pycharm": {
     "name": "#%%\n"
    }
   },
   "execution_count": null,
   "outputs": [
    {
     "output_type": "stream",
     "name": "stdout",
     "text": [
      "* \u001B[32mdeep_and_wide                         \u001B[m 277ba41 directory change\n",
      "  main                                  \u001B[m 401931c Merge pull request #4 from fellowship/data_generation_refine\n",
      "  \u001B[31mremotes/origin/HEAD                   \u001B[m -> origin/main\n",
      "  \u001B[31mremotes/origin/cohort_var_xgb         \u001B[m 025362d initial implementation of cohort variance analysis\n",
      "  \u001B[31mremotes/origin/deep_and_wide          \u001B[m 277ba41 directory change\n",
      "  \u001B[31mremotes/origin/initial_data_generation\u001B[m 5a736b5 add script and plots for example data\n",
      "  \u001B[31mremotes/origin/main                   \u001B[m 401931c Merge pull request #4 from fellowship/data_generation_refine\n",
      "  \u001B[31mremotes/origin/setup                  \u001B[m a15a8c2 update readme\n",
      "  \u001B[31mremotes/origin/uneven_cohort_fix      \u001B[m 85cb0fe fix a sampling frequency bug where number of elements to modify is greater than total number of elements\n"
     ]
    }
   ]
  },
  {
   "cell_type": "code",
   "source": [
    "# !git checkout deep_and_wide"
   ],
   "metadata": {
    "id": "EsEtpWX9PDIc",
    "pycharm": {
     "name": "#%%\n"
    }
   },
   "execution_count": null,
   "outputs": []
  },
  {
   "cell_type": "code",
   "source": [
    "!git branch"
   ],
   "metadata": {
    "colab": {
     "base_uri": "https://localhost:8080/"
    },
    "id": "O6Uu2qN2PJ3L",
    "executionInfo": {
     "status": "ok",
     "timestamp": 1660306551417,
     "user_tz": -120,
     "elapsed": 2809,
     "user": {
      "displayName": "shubhaditya burela",
      "userId": "17820068407271373572"
     }
    },
    "outputId": "52036cb1-e9f3-48ab-846e-aa5f2c4a5705",
    "pycharm": {
     "name": "#%%\n"
    }
   },
   "execution_count": 4,
   "outputs": [
    {
     "output_type": "stream",
     "name": "stdout",
     "text": [
      "* \u001B[32mdeep_and_wide\u001B[m\n",
      "  main\u001B[m\n"
     ]
    }
   ]
  },
  {
   "cell_type": "code",
   "source": [
    "!python ./00.generate_data.py"
   ],
   "metadata": {
    "id": "F0uxQBMeSDpW",
    "executionInfo": {
     "status": "ok",
     "timestamp": 1660306960816,
     "user_tz": -120,
     "elapsed": 35119,
     "user": {
      "displayName": "shubhaditya burela",
      "userId": "17820068407271373572"
     }
    },
    "pycharm": {
     "name": "#%%\n"
    }
   },
   "execution_count": 5,
   "outputs": []
  },
  {
   "cell_type": "code",
   "source": [
    "import pandas as pd\n",
    "obs_df = pd.read_csv(\"observation_even.csv\")"
   ],
   "metadata": {
    "id": "hDja_l_3_iR1",
    "executionInfo": {
     "status": "ok",
     "timestamp": 1660306996526,
     "user_tz": -120,
     "elapsed": 2536,
     "user": {
      "displayName": "shubhaditya burela",
      "userId": "17820068407271373572"
     }
    },
    "pycharm": {
     "name": "#%%\n"
    }
   },
   "execution_count": 6,
   "outputs": []
  },
  {
   "cell_type": "code",
   "source": [
    "!pip install dataframe_image"
   ],
   "metadata": {
    "colab": {
     "base_uri": "https://localhost:8080/"
    },
    "id": "9b-P0ri2AotW",
    "executionInfo": {
     "status": "ok",
     "timestamp": 1660307054234,
     "user_tz": -120,
     "elapsed": 5591,
     "user": {
      "displayName": "shubhaditya burela",
      "userId": "17820068407271373572"
     }
    },
    "outputId": "2918156b-4c2f-4741-e3c7-fe692480a8c7",
    "pycharm": {
     "name": "#%%\n"
    }
   },
   "execution_count": 8,
   "outputs": [
    {
     "output_type": "stream",
     "name": "stdout",
     "text": [
      "Looking in indexes: https://pypi.org/simple, https://us-python.pkg.dev/colab-wheels/public/simple/\n",
      "Collecting dataframe_image\n",
      "  Downloading dataframe_image-0.1.1-py3-none-any.whl (32 kB)\n",
      "Requirement already satisfied: aiohttp in /usr/local/lib/python3.7/dist-packages (from dataframe_image) (3.8.1)\n",
      "Requirement already satisfied: requests in /usr/local/lib/python3.7/dist-packages (from dataframe_image) (2.23.0)\n",
      "Requirement already satisfied: pandas>=0.24 in /usr/local/lib/python3.7/dist-packages (from dataframe_image) (1.3.5)\n",
      "Requirement already satisfied: nbconvert>=5 in /usr/local/lib/python3.7/dist-packages (from dataframe_image) (5.6.1)\n",
      "Requirement already satisfied: beautifulsoup4 in /usr/local/lib/python3.7/dist-packages (from dataframe_image) (4.6.3)\n",
      "Requirement already satisfied: matplotlib>=3.1 in /usr/local/lib/python3.7/dist-packages (from dataframe_image) (3.2.2)\n",
      "Requirement already satisfied: cycler>=0.10 in /usr/local/lib/python3.7/dist-packages (from matplotlib>=3.1->dataframe_image) (0.11.0)\n",
      "Requirement already satisfied: python-dateutil>=2.1 in /usr/local/lib/python3.7/dist-packages (from matplotlib>=3.1->dataframe_image) (2.8.2)\n",
      "Requirement already satisfied: kiwisolver>=1.0.1 in /usr/local/lib/python3.7/dist-packages (from matplotlib>=3.1->dataframe_image) (1.4.4)\n",
      "Requirement already satisfied: pyparsing!=2.0.4,!=2.1.2,!=2.1.6,>=2.0.1 in /usr/local/lib/python3.7/dist-packages (from matplotlib>=3.1->dataframe_image) (3.0.9)\n",
      "Requirement already satisfied: numpy>=1.11 in /usr/local/lib/python3.7/dist-packages (from matplotlib>=3.1->dataframe_image) (1.21.6)\n",
      "Requirement already satisfied: typing-extensions in /usr/local/lib/python3.7/dist-packages (from kiwisolver>=1.0.1->matplotlib>=3.1->dataframe_image) (4.1.1)\n",
      "Requirement already satisfied: pygments in /usr/local/lib/python3.7/dist-packages (from nbconvert>=5->dataframe_image) (2.6.1)\n",
      "Requirement already satisfied: nbformat>=4.4 in /usr/local/lib/python3.7/dist-packages (from nbconvert>=5->dataframe_image) (5.4.0)\n",
      "Requirement already satisfied: entrypoints>=0.2.2 in /usr/local/lib/python3.7/dist-packages (from nbconvert>=5->dataframe_image) (0.4)\n",
      "Requirement already satisfied: defusedxml in /usr/local/lib/python3.7/dist-packages (from nbconvert>=5->dataframe_image) (0.7.1)\n",
      "Requirement already satisfied: testpath in /usr/local/lib/python3.7/dist-packages (from nbconvert>=5->dataframe_image) (0.6.0)\n",
      "Requirement already satisfied: jupyter-core in /usr/local/lib/python3.7/dist-packages (from nbconvert>=5->dataframe_image) (4.11.1)\n",
      "Requirement already satisfied: pandocfilters>=1.4.1 in /usr/local/lib/python3.7/dist-packages (from nbconvert>=5->dataframe_image) (1.5.0)\n",
      "Requirement already satisfied: mistune<2,>=0.8.1 in /usr/local/lib/python3.7/dist-packages (from nbconvert>=5->dataframe_image) (0.8.4)\n",
      "Requirement already satisfied: bleach in /usr/local/lib/python3.7/dist-packages (from nbconvert>=5->dataframe_image) (5.0.1)\n",
      "Requirement already satisfied: jinja2>=2.4 in /usr/local/lib/python3.7/dist-packages (from nbconvert>=5->dataframe_image) (2.11.3)\n",
      "Requirement already satisfied: traitlets>=4.2 in /usr/local/lib/python3.7/dist-packages (from nbconvert>=5->dataframe_image) (5.1.1)\n",
      "Requirement already satisfied: MarkupSafe>=0.23 in /usr/local/lib/python3.7/dist-packages (from jinja2>=2.4->nbconvert>=5->dataframe_image) (2.0.1)\n",
      "Requirement already satisfied: jsonschema>=2.6 in /usr/local/lib/python3.7/dist-packages (from nbformat>=4.4->nbconvert>=5->dataframe_image) (4.3.3)\n",
      "Requirement already satisfied: fastjsonschema in /usr/local/lib/python3.7/dist-packages (from nbformat>=4.4->nbconvert>=5->dataframe_image) (2.16.1)\n",
      "Requirement already satisfied: importlib-metadata in /usr/local/lib/python3.7/dist-packages (from jsonschema>=2.6->nbformat>=4.4->nbconvert>=5->dataframe_image) (4.12.0)\n",
      "Requirement already satisfied: importlib-resources>=1.4.0 in /usr/local/lib/python3.7/dist-packages (from jsonschema>=2.6->nbformat>=4.4->nbconvert>=5->dataframe_image) (5.9.0)\n",
      "Requirement already satisfied: pyrsistent!=0.17.0,!=0.17.1,!=0.17.2,>=0.14.0 in /usr/local/lib/python3.7/dist-packages (from jsonschema>=2.6->nbformat>=4.4->nbconvert>=5->dataframe_image) (0.18.1)\n",
      "Requirement already satisfied: attrs>=17.4.0 in /usr/local/lib/python3.7/dist-packages (from jsonschema>=2.6->nbformat>=4.4->nbconvert>=5->dataframe_image) (22.1.0)\n",
      "Requirement already satisfied: zipp>=3.1.0 in /usr/local/lib/python3.7/dist-packages (from importlib-resources>=1.4.0->jsonschema>=2.6->nbformat>=4.4->nbconvert>=5->dataframe_image) (3.8.1)\n",
      "Requirement already satisfied: pytz>=2017.3 in /usr/local/lib/python3.7/dist-packages (from pandas>=0.24->dataframe_image) (2022.1)\n",
      "Requirement already satisfied: six>=1.5 in /usr/local/lib/python3.7/dist-packages (from python-dateutil>=2.1->matplotlib>=3.1->dataframe_image) (1.15.0)\n",
      "Requirement already satisfied: asynctest==0.13.0 in /usr/local/lib/python3.7/dist-packages (from aiohttp->dataframe_image) (0.13.0)\n",
      "Requirement already satisfied: charset-normalizer<3.0,>=2.0 in /usr/local/lib/python3.7/dist-packages (from aiohttp->dataframe_image) (2.1.0)\n",
      "Requirement already satisfied: frozenlist>=1.1.1 in /usr/local/lib/python3.7/dist-packages (from aiohttp->dataframe_image) (1.3.0)\n",
      "Requirement already satisfied: aiosignal>=1.1.2 in /usr/local/lib/python3.7/dist-packages (from aiohttp->dataframe_image) (1.2.0)\n",
      "Requirement already satisfied: async-timeout<5.0,>=4.0.0a3 in /usr/local/lib/python3.7/dist-packages (from aiohttp->dataframe_image) (4.0.2)\n",
      "Requirement already satisfied: multidict<7.0,>=4.5 in /usr/local/lib/python3.7/dist-packages (from aiohttp->dataframe_image) (6.0.2)\n",
      "Requirement already satisfied: yarl<2.0,>=1.0 in /usr/local/lib/python3.7/dist-packages (from aiohttp->dataframe_image) (1.8.1)\n",
      "Requirement already satisfied: idna>=2.0 in /usr/local/lib/python3.7/dist-packages (from yarl<2.0,>=1.0->aiohttp->dataframe_image) (2.10)\n",
      "Requirement already satisfied: webencodings in /usr/local/lib/python3.7/dist-packages (from bleach->nbconvert>=5->dataframe_image) (0.5.1)\n",
      "Requirement already satisfied: certifi>=2017.4.17 in /usr/local/lib/python3.7/dist-packages (from requests->dataframe_image) (2022.6.15)\n",
      "Requirement already satisfied: urllib3!=1.25.0,!=1.25.1,<1.26,>=1.21.1 in /usr/local/lib/python3.7/dist-packages (from requests->dataframe_image) (1.24.3)\n",
      "Requirement already satisfied: chardet<4,>=3.0.2 in /usr/local/lib/python3.7/dist-packages (from requests->dataframe_image) (3.0.4)\n",
      "Installing collected packages: dataframe-image\n",
      "Successfully installed dataframe-image-0.1.1\n"
     ]
    }
   ]
  },
  {
   "cell_type": "code",
   "source": [
    "!apt install chromium-chromedriver"
   ],
   "metadata": {
    "colab": {
     "base_uri": "https://localhost:8080/"
    },
    "id": "LimYKRtEA-DX",
    "executionInfo": {
     "status": "ok",
     "timestamp": 1660307139060,
     "user_tz": -120,
     "elapsed": 27032,
     "user": {
      "displayName": "shubhaditya burela",
      "userId": "17820068407271373572"
     }
    },
    "outputId": "41a7885d-b13f-4623-912e-8ddaf5ea8fee",
    "pycharm": {
     "name": "#%%\n"
    }
   },
   "execution_count": 10,
   "outputs": [
    {
     "output_type": "stream",
     "name": "stdout",
     "text": [
      "Reading package lists... Done\n",
      "Building dependency tree       \n",
      "Reading state information... Done\n",
      "The following package was automatically installed and is no longer required:\n",
      "  libnvidia-common-460\n",
      "Use 'apt autoremove' to remove it.\n",
      "The following additional packages will be installed:\n",
      "  chromium-browser chromium-browser-l10n chromium-codecs-ffmpeg-extra\n",
      "Suggested packages:\n",
      "  webaccounts-chromium-extension unity-chromium-extension\n",
      "The following NEW packages will be installed:\n",
      "  chromium-browser chromium-browser-l10n chromium-chromedriver\n",
      "  chromium-codecs-ffmpeg-extra\n",
      "0 upgraded, 4 newly installed, 0 to remove and 19 not upgraded.\n",
      "Need to get 90.4 MB of archives.\n",
      "After this operation, 306 MB of additional disk space will be used.\n",
      "Get:1 http://archive.ubuntu.com/ubuntu bionic-updates/universe amd64 chromium-codecs-ffmpeg-extra amd64 103.0.5060.134-0ubuntu0.18.04.1 [1,160 kB]\n",
      "Get:2 http://archive.ubuntu.com/ubuntu bionic-updates/universe amd64 chromium-browser amd64 103.0.5060.134-0ubuntu0.18.04.1 [79.0 MB]\n",
      "Get:3 http://archive.ubuntu.com/ubuntu bionic-updates/universe amd64 chromium-browser-l10n all 103.0.5060.134-0ubuntu0.18.04.1 [5,043 kB]\n",
      "Get:4 http://archive.ubuntu.com/ubuntu bionic-updates/universe amd64 chromium-chromedriver amd64 103.0.5060.134-0ubuntu0.18.04.1 [5,202 kB]\n",
      "Fetched 90.4 MB in 4s (23.7 MB/s)\n",
      "Selecting previously unselected package chromium-codecs-ffmpeg-extra.\n",
      "(Reading database ... 155680 files and directories currently installed.)\n",
      "Preparing to unpack .../chromium-codecs-ffmpeg-extra_103.0.5060.134-0ubuntu0.18.04.1_amd64.deb ...\n",
      "Unpacking chromium-codecs-ffmpeg-extra (103.0.5060.134-0ubuntu0.18.04.1) ...\n",
      "Selecting previously unselected package chromium-browser.\n",
      "Preparing to unpack .../chromium-browser_103.0.5060.134-0ubuntu0.18.04.1_amd64.deb ...\n",
      "Unpacking chromium-browser (103.0.5060.134-0ubuntu0.18.04.1) ...\n",
      "Selecting previously unselected package chromium-browser-l10n.\n",
      "Preparing to unpack .../chromium-browser-l10n_103.0.5060.134-0ubuntu0.18.04.1_all.deb ...\n",
      "Unpacking chromium-browser-l10n (103.0.5060.134-0ubuntu0.18.04.1) ...\n",
      "Selecting previously unselected package chromium-chromedriver.\n",
      "Preparing to unpack .../chromium-chromedriver_103.0.5060.134-0ubuntu0.18.04.1_amd64.deb ...\n",
      "Unpacking chromium-chromedriver (103.0.5060.134-0ubuntu0.18.04.1) ...\n",
      "Setting up chromium-codecs-ffmpeg-extra (103.0.5060.134-0ubuntu0.18.04.1) ...\n",
      "Setting up chromium-browser (103.0.5060.134-0ubuntu0.18.04.1) ...\n",
      "update-alternatives: using /usr/bin/chromium-browser to provide /usr/bin/x-www-browser (x-www-browser) in auto mode\n",
      "update-alternatives: using /usr/bin/chromium-browser to provide /usr/bin/gnome-www-browser (gnome-www-browser) in auto mode\n",
      "Setting up chromium-chromedriver (103.0.5060.134-0ubuntu0.18.04.1) ...\n",
      "Setting up chromium-browser-l10n (103.0.5060.134-0ubuntu0.18.04.1) ...\n",
      "Processing triggers for man-db (2.8.3-2ubuntu0.1) ...\n",
      "Processing triggers for hicolor-icon-theme (0.17-2) ...\n",
      "Processing triggers for mime-support (3.60ubuntu1) ...\n",
      "Processing triggers for libc-bin (2.27-3ubuntu1.5) ...\n"
     ]
    }
   ]
  },
  {
   "cell_type": "code",
   "source": [
    "obs_df.head()"
   ],
   "metadata": {
    "colab": {
     "base_uri": "https://localhost:8080/",
     "height": 204
    },
    "id": "uW_FE_TtAEND",
    "executionInfo": {
     "status": "ok",
     "timestamp": 1660308189417,
     "user_tz": -120,
     "elapsed": 298,
     "user": {
      "displayName": "shubhaditya burela",
      "userId": "17820068407271373572"
     }
    },
    "outputId": "4363441d-6846-44c2-ff32-7f4a00dd40df",
    "pycharm": {
     "name": "#%%\n"
    }
   },
   "execution_count": 19,
   "outputs": [
    {
     "output_type": "execute_result",
     "data": {
      "text/plain": [
       "   Unnamed: 0  user_id  camp_id  cohort   user_f0   user_f1   user_fh  \\\n",
       "0           0      339       36       3 -0.182992  0.013488  0.001687   \n",
       "1           1      466       28       4 -0.148565 -0.059402 -0.370424   \n",
       "2           2      151       59       1  0.122920  0.781771 -0.330563   \n",
       "3           3      414       62       4  0.358017 -0.423914 -0.307932   \n",
       "4           4      394       64       3 -0.134819 -0.176720 -0.075673   \n",
       "\n",
       "    camp_f0   camp_f1   camp_fh  response  \n",
       "0 -0.937962  0.380485 -0.387185         0  \n",
       "1 -0.592291 -0.560851 -0.688911         1  \n",
       "2  0.532898  0.324748  0.786801         1  \n",
       "3  0.062710 -0.971830  0.733833         1  \n",
       "4  0.915027  0.510233  0.899921         0  "
      ],
      "text/html": [
       "\n",
       "  <div id=\"df-62abd8ee-030f-4b8d-99b6-843788d80a17\">\n",
       "    <div class=\"colab-df-container\">\n",
       "      <div>\n",
       "<style scoped>\n",
       "    .dataframe tbody tr th:only-of-type {\n",
       "        vertical-align: middle;\n",
       "    }\n",
       "\n",
       "    .dataframe tbody tr th {\n",
       "        vertical-align: top;\n",
       "    }\n",
       "\n",
       "    .dataframe thead th {\n",
       "        text-align: right;\n",
       "    }\n",
       "</style>\n",
       "<table border=\"1\" class=\"dataframe\">\n",
       "  <thead>\n",
       "    <tr style=\"text-align: right;\">\n",
       "      <th></th>\n",
       "      <th>Unnamed: 0</th>\n",
       "      <th>user_id</th>\n",
       "      <th>camp_id</th>\n",
       "      <th>cohort</th>\n",
       "      <th>user_f0</th>\n",
       "      <th>user_f1</th>\n",
       "      <th>user_fh</th>\n",
       "      <th>camp_f0</th>\n",
       "      <th>camp_f1</th>\n",
       "      <th>camp_fh</th>\n",
       "      <th>response</th>\n",
       "    </tr>\n",
       "  </thead>\n",
       "  <tbody>\n",
       "    <tr>\n",
       "      <th>0</th>\n",
       "      <td>0</td>\n",
       "      <td>339</td>\n",
       "      <td>36</td>\n",
       "      <td>3</td>\n",
       "      <td>-0.182992</td>\n",
       "      <td>0.013488</td>\n",
       "      <td>0.001687</td>\n",
       "      <td>-0.937962</td>\n",
       "      <td>0.380485</td>\n",
       "      <td>-0.387185</td>\n",
       "      <td>0</td>\n",
       "    </tr>\n",
       "    <tr>\n",
       "      <th>1</th>\n",
       "      <td>1</td>\n",
       "      <td>466</td>\n",
       "      <td>28</td>\n",
       "      <td>4</td>\n",
       "      <td>-0.148565</td>\n",
       "      <td>-0.059402</td>\n",
       "      <td>-0.370424</td>\n",
       "      <td>-0.592291</td>\n",
       "      <td>-0.560851</td>\n",
       "      <td>-0.688911</td>\n",
       "      <td>1</td>\n",
       "    </tr>\n",
       "    <tr>\n",
       "      <th>2</th>\n",
       "      <td>2</td>\n",
       "      <td>151</td>\n",
       "      <td>59</td>\n",
       "      <td>1</td>\n",
       "      <td>0.122920</td>\n",
       "      <td>0.781771</td>\n",
       "      <td>-0.330563</td>\n",
       "      <td>0.532898</td>\n",
       "      <td>0.324748</td>\n",
       "      <td>0.786801</td>\n",
       "      <td>1</td>\n",
       "    </tr>\n",
       "    <tr>\n",
       "      <th>3</th>\n",
       "      <td>3</td>\n",
       "      <td>414</td>\n",
       "      <td>62</td>\n",
       "      <td>4</td>\n",
       "      <td>0.358017</td>\n",
       "      <td>-0.423914</td>\n",
       "      <td>-0.307932</td>\n",
       "      <td>0.062710</td>\n",
       "      <td>-0.971830</td>\n",
       "      <td>0.733833</td>\n",
       "      <td>1</td>\n",
       "    </tr>\n",
       "    <tr>\n",
       "      <th>4</th>\n",
       "      <td>4</td>\n",
       "      <td>394</td>\n",
       "      <td>64</td>\n",
       "      <td>3</td>\n",
       "      <td>-0.134819</td>\n",
       "      <td>-0.176720</td>\n",
       "      <td>-0.075673</td>\n",
       "      <td>0.915027</td>\n",
       "      <td>0.510233</td>\n",
       "      <td>0.899921</td>\n",
       "      <td>0</td>\n",
       "    </tr>\n",
       "  </tbody>\n",
       "</table>\n",
       "</div>\n",
       "      <button class=\"colab-df-convert\" onclick=\"convertToInteractive('df-62abd8ee-030f-4b8d-99b6-843788d80a17')\"\n",
       "              title=\"Convert this dataframe to an interactive table.\"\n",
       "              style=\"display:none;\">\n",
       "        \n",
       "  <svg xmlns=\"http://www.w3.org/2000/svg\" height=\"24px\"viewBox=\"0 0 24 24\"\n",
       "       width=\"24px\">\n",
       "    <path d=\"M0 0h24v24H0V0z\" fill=\"none\"/>\n",
       "    <path d=\"M18.56 5.44l.94 2.06.94-2.06 2.06-.94-2.06-.94-.94-2.06-.94 2.06-2.06.94zm-11 1L8.5 8.5l.94-2.06 2.06-.94-2.06-.94L8.5 2.5l-.94 2.06-2.06.94zm10 10l.94 2.06.94-2.06 2.06-.94-2.06-.94-.94-2.06-.94 2.06-2.06.94z\"/><path d=\"M17.41 7.96l-1.37-1.37c-.4-.4-.92-.59-1.43-.59-.52 0-1.04.2-1.43.59L10.3 9.45l-7.72 7.72c-.78.78-.78 2.05 0 2.83L4 21.41c.39.39.9.59 1.41.59.51 0 1.02-.2 1.41-.59l7.78-7.78 2.81-2.81c.8-.78.8-2.07 0-2.86zM5.41 20L4 18.59l7.72-7.72 1.47 1.35L5.41 20z\"/>\n",
       "  </svg>\n",
       "      </button>\n",
       "      \n",
       "  <style>\n",
       "    .colab-df-container {\n",
       "      display:flex;\n",
       "      flex-wrap:wrap;\n",
       "      gap: 12px;\n",
       "    }\n",
       "\n",
       "    .colab-df-convert {\n",
       "      background-color: #E8F0FE;\n",
       "      border: none;\n",
       "      border-radius: 50%;\n",
       "      cursor: pointer;\n",
       "      display: none;\n",
       "      fill: #1967D2;\n",
       "      height: 32px;\n",
       "      padding: 0 0 0 0;\n",
       "      width: 32px;\n",
       "    }\n",
       "\n",
       "    .colab-df-convert:hover {\n",
       "      background-color: #E2EBFA;\n",
       "      box-shadow: 0px 1px 2px rgba(60, 64, 67, 0.3), 0px 1px 3px 1px rgba(60, 64, 67, 0.15);\n",
       "      fill: #174EA6;\n",
       "    }\n",
       "\n",
       "    [theme=dark] .colab-df-convert {\n",
       "      background-color: #3B4455;\n",
       "      fill: #D2E3FC;\n",
       "    }\n",
       "\n",
       "    [theme=dark] .colab-df-convert:hover {\n",
       "      background-color: #434B5C;\n",
       "      box-shadow: 0px 1px 3px 1px rgba(0, 0, 0, 0.15);\n",
       "      filter: drop-shadow(0px 1px 2px rgba(0, 0, 0, 0.3));\n",
       "      fill: #FFFFFF;\n",
       "    }\n",
       "  </style>\n",
       "\n",
       "      <script>\n",
       "        const buttonEl =\n",
       "          document.querySelector('#df-62abd8ee-030f-4b8d-99b6-843788d80a17 button.colab-df-convert');\n",
       "        buttonEl.style.display =\n",
       "          google.colab.kernel.accessAllowed ? 'block' : 'none';\n",
       "\n",
       "        async function convertToInteractive(key) {\n",
       "          const element = document.querySelector('#df-62abd8ee-030f-4b8d-99b6-843788d80a17');\n",
       "          const dataTable =\n",
       "            await google.colab.kernel.invokeFunction('convertToInteractive',\n",
       "                                                     [key], {});\n",
       "          if (!dataTable) return;\n",
       "\n",
       "          const docLinkHtml = 'Like what you see? Visit the ' +\n",
       "            '<a target=\"_blank\" href=https://colab.research.google.com/notebooks/data_table.ipynb>data table notebook</a>'\n",
       "            + ' to learn more about interactive tables.';\n",
       "          element.innerHTML = '';\n",
       "          dataTable['output_type'] = 'display_data';\n",
       "          await google.colab.output.renderOutput(dataTable, element);\n",
       "          const docLink = document.createElement('div');\n",
       "          docLink.innerHTML = docLinkHtml;\n",
       "          element.appendChild(docLink);\n",
       "        }\n",
       "      </script>\n",
       "    </div>\n",
       "  </div>\n",
       "  "
      ]
     },
     "metadata": {},
     "execution_count": 19
    }
   ]
  },
  {
   "cell_type": "code",
   "source": [
    "obs_df.info()"
   ],
   "metadata": {
    "colab": {
     "base_uri": "https://localhost:8080/"
    },
    "id": "KaUMk-CBFDYN",
    "executionInfo": {
     "status": "ok",
     "timestamp": 1660308184642,
     "user_tz": -120,
     "elapsed": 276,
     "user": {
      "displayName": "shubhaditya burela",
      "userId": "17820068407271373572"
     }
    },
    "outputId": "49a22c95-244d-4f83-d34e-ad26a5803c0c",
    "pycharm": {
     "name": "#%%\n"
    }
   },
   "execution_count": 18,
   "outputs": [
    {
     "output_type": "stream",
     "name": "stdout",
     "text": [
      "<class 'pandas.core.frame.DataFrame'>\n",
      "RangeIndex: 1000000 entries, 0 to 999999\n",
      "Data columns (total 11 columns):\n",
      " #   Column      Non-Null Count    Dtype  \n",
      "---  ------      --------------    -----  \n",
      " 0   Unnamed: 0  1000000 non-null  int64  \n",
      " 1   user_id     1000000 non-null  int64  \n",
      " 2   camp_id     1000000 non-null  int64  \n",
      " 3   cohort      1000000 non-null  int64  \n",
      " 4   user_f0     1000000 non-null  float64\n",
      " 5   user_f1     1000000 non-null  float64\n",
      " 6   user_fh     1000000 non-null  float64\n",
      " 7   camp_f0     1000000 non-null  float64\n",
      " 8   camp_f1     1000000 non-null  float64\n",
      " 9   camp_fh     1000000 non-null  float64\n",
      " 10  response    1000000 non-null  int64  \n",
      "dtypes: float64(6), int64(5)\n",
      "memory usage: 83.9 MB\n"
     ]
    }
   ]
  }
 ]
}